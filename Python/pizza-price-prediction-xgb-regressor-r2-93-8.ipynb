{
 "cells": [
  {
   "cell_type": "code",
   "execution_count": 1,
   "id": "4275cb07",
   "metadata": {
    "_cell_guid": "b1076dfc-b9ad-4769-8c92-a6c4dae69d19",
    "_uuid": "8f2839f25d086af736a60e9eeb907d3b93b6e0e5",
    "execution": {
     "iopub.execute_input": "2021-09-04T13:35:59.144647Z",
     "iopub.status.busy": "2021-09-04T13:35:59.143798Z",
     "iopub.status.idle": "2021-09-04T13:35:59.165222Z",
     "shell.execute_reply": "2021-09-04T13:35:59.164454Z",
     "shell.execute_reply.started": "2021-09-04T12:38:06.243957Z"
    },
    "papermill": {
     "duration": 0.055446,
     "end_time": "2021-09-04T13:35:59.165399",
     "exception": false,
     "start_time": "2021-09-04T13:35:59.109953",
     "status": "completed"
    },
    "tags": []
   },
   "outputs": [
    {
     "name": "stdout",
     "output_type": "stream",
     "text": [
      "/kaggle/input/pizza-price-prediction/pizza_v2.csv\n",
      "/kaggle/input/pizza-price-prediction/pizza_v1.csv\n"
     ]
    }
   ],
   "source": [
    "# This Python 3 environment comes with many helpful analytics libraries installed\n",
    "# It is defined by the kaggle/python Docker image: https://github.com/kaggle/docker-python\n",
    "# For example, here's several helpful packages to load\n",
    "\n",
    "import numpy as np # linear algebra\n",
    "import pandas as pd # data processing, CSV file I/O (e.g. pd.read_csv)\n",
    "\n",
    "# Input data files are available in the read-only \"../input/\" directory\n",
    "# For example, running this (by clicking run or pressing Shift+Enter) will list all files under the input directory\n",
    "\n",
    "import os\n",
    "for dirname, _, filenames in os.walk('/kaggle/input'):\n",
    "    for filename in filenames:\n",
    "        print(os.path.join(dirname, filename))\n",
    "\n",
    "# You can write up to 20GB to the current directory (/kaggle/working/) that gets preserved as output when you create a version using \"Save & Run All\" \n",
    "# You can also write temporary files to /kaggle/temp/, but they won't be saved outside of the current session"
   ]
  },
  {
   "cell_type": "markdown",
   "id": "e80c71cd",
   "metadata": {
    "papermill": {
     "duration": 0.030568,
     "end_time": "2021-09-04T13:35:59.228225",
     "exception": false,
     "start_time": "2021-09-04T13:35:59.197657",
     "status": "completed"
    },
    "tags": []
   },
   "source": [
    "# Importing Necessary Libraries"
   ]
  },
  {
   "cell_type": "code",
   "execution_count": 2,
   "id": "fc7b8df7",
   "metadata": {
    "execution": {
     "iopub.execute_input": "2021-09-04T13:35:59.294501Z",
     "iopub.status.busy": "2021-09-04T13:35:59.293991Z",
     "iopub.status.idle": "2021-09-04T13:36:01.552094Z",
     "shell.execute_reply": "2021-09-04T13:36:01.551678Z",
     "shell.execute_reply.started": "2021-09-04T12:38:06.254767Z"
    },
    "papermill": {
     "duration": 2.292341,
     "end_time": "2021-09-04T13:36:01.552207",
     "exception": false,
     "start_time": "2021-09-04T13:35:59.259866",
     "status": "completed"
    },
    "tags": []
   },
   "outputs": [],
   "source": [
    "import numpy as np\n",
    "import pandas as pd \n",
    "import matplotlib.pyplot as plt\n",
    "import plotly.express as px\n",
    "import seaborn as sns\n",
    "%matplotlib inline\n",
    "from sklearn.preprocessing import LabelEncoder\n",
    "from sklearn.model_selection import train_test_split\n",
    "from sklearn.linear_model import LinearRegression\n",
    "from sklearn.ensemble import RandomForestRegressor\n",
    "import sklearn.metrics as metrics\n",
    "import os"
   ]
  },
  {
   "cell_type": "markdown",
   "id": "bf6d1843",
   "metadata": {
    "papermill": {
     "duration": 0.030574,
     "end_time": "2021-09-04T13:36:01.613523",
     "exception": false,
     "start_time": "2021-09-04T13:36:01.582949",
     "status": "completed"
    },
    "tags": []
   },
   "source": [
    "# Reading the Dataset"
   ]
  },
  {
   "cell_type": "code",
   "execution_count": 3,
   "id": "86032c4e",
   "metadata": {
    "execution": {
     "iopub.execute_input": "2021-09-04T13:36:01.679289Z",
     "iopub.status.busy": "2021-09-04T13:36:01.678789Z",
     "iopub.status.idle": "2021-09-04T13:36:01.694213Z",
     "shell.execute_reply": "2021-09-04T13:36:01.693807Z",
     "shell.execute_reply.started": "2021-09-04T12:38:06.263865Z"
    },
    "papermill": {
     "duration": 0.050286,
     "end_time": "2021-09-04T13:36:01.694318",
     "exception": false,
     "start_time": "2021-09-04T13:36:01.644032",
     "status": "completed"
    },
    "tags": []
   },
   "outputs": [],
   "source": [
    "data = pd.read_csv('/kaggle/input/pizza-price-prediction/pizza_v2.csv')"
   ]
  },
  {
   "cell_type": "code",
   "execution_count": 4,
   "id": "81d2c8ba",
   "metadata": {
    "execution": {
     "iopub.execute_input": "2021-09-04T13:36:01.765967Z",
     "iopub.status.busy": "2021-09-04T13:36:01.764328Z",
     "iopub.status.idle": "2021-09-04T13:36:01.787226Z",
     "shell.execute_reply": "2021-09-04T13:36:01.786654Z",
     "shell.execute_reply.started": "2021-09-04T12:38:06.473651Z"
    },
    "papermill": {
     "duration": 0.062238,
     "end_time": "2021-09-04T13:36:01.787342",
     "exception": false,
     "start_time": "2021-09-04T13:36:01.725104",
     "status": "completed"
    },
    "tags": []
   },
   "outputs": [
    {
     "data": {
      "text/html": [
       "<div>\n",
       "<style scoped>\n",
       "    .dataframe tbody tr th:only-of-type {\n",
       "        vertical-align: middle;\n",
       "    }\n",
       "\n",
       "    .dataframe tbody tr th {\n",
       "        vertical-align: top;\n",
       "    }\n",
       "\n",
       "    .dataframe thead th {\n",
       "        text-align: right;\n",
       "    }\n",
       "</style>\n",
       "<table border=\"1\" class=\"dataframe\">\n",
       "  <thead>\n",
       "    <tr style=\"text-align: right;\">\n",
       "      <th></th>\n",
       "      <th>company</th>\n",
       "      <th>price_rupiah</th>\n",
       "      <th>diameter</th>\n",
       "      <th>topping</th>\n",
       "      <th>variant</th>\n",
       "      <th>size</th>\n",
       "      <th>extra_sauce</th>\n",
       "      <th>extra_cheese</th>\n",
       "      <th>extra_mushrooms</th>\n",
       "    </tr>\n",
       "  </thead>\n",
       "  <tbody>\n",
       "    <tr>\n",
       "      <th>0</th>\n",
       "      <td>A</td>\n",
       "      <td>Rp235,000</td>\n",
       "      <td>22 inch</td>\n",
       "      <td>chicken</td>\n",
       "      <td>double_signature</td>\n",
       "      <td>jumbo</td>\n",
       "      <td>yes</td>\n",
       "      <td>yes</td>\n",
       "      <td>no</td>\n",
       "    </tr>\n",
       "    <tr>\n",
       "      <th>1</th>\n",
       "      <td>A</td>\n",
       "      <td>Rp198,000</td>\n",
       "      <td>20 inch</td>\n",
       "      <td>papperoni</td>\n",
       "      <td>double_signature</td>\n",
       "      <td>jumbo</td>\n",
       "      <td>yes</td>\n",
       "      <td>yes</td>\n",
       "      <td>no</td>\n",
       "    </tr>\n",
       "    <tr>\n",
       "      <th>2</th>\n",
       "      <td>A</td>\n",
       "      <td>Rp120,000</td>\n",
       "      <td>16 inch</td>\n",
       "      <td>mushrooms</td>\n",
       "      <td>double_signature</td>\n",
       "      <td>reguler</td>\n",
       "      <td>yes</td>\n",
       "      <td>yes</td>\n",
       "      <td>yes</td>\n",
       "    </tr>\n",
       "    <tr>\n",
       "      <th>3</th>\n",
       "      <td>A</td>\n",
       "      <td>Rp155,000</td>\n",
       "      <td>14 inch</td>\n",
       "      <td>smoked_beef</td>\n",
       "      <td>double_signature</td>\n",
       "      <td>reguler</td>\n",
       "      <td>yes</td>\n",
       "      <td>no</td>\n",
       "      <td>yes</td>\n",
       "    </tr>\n",
       "    <tr>\n",
       "      <th>4</th>\n",
       "      <td>A</td>\n",
       "      <td>Rp248,000</td>\n",
       "      <td>18 inch</td>\n",
       "      <td>mozzarella</td>\n",
       "      <td>double_signature</td>\n",
       "      <td>jumbo</td>\n",
       "      <td>yes</td>\n",
       "      <td>no</td>\n",
       "      <td>yes</td>\n",
       "    </tr>\n",
       "  </tbody>\n",
       "</table>\n",
       "</div>"
      ],
      "text/plain": [
       "  company price_rupiah diameter      topping           variant     size  \\\n",
       "0       A    Rp235,000  22 inch      chicken  double_signature    jumbo   \n",
       "1       A    Rp198,000  20 inch    papperoni  double_signature    jumbo   \n",
       "2       A    Rp120,000  16 inch    mushrooms  double_signature  reguler   \n",
       "3       A    Rp155,000  14 inch  smoked_beef  double_signature  reguler   \n",
       "4       A    Rp248,000  18 inch   mozzarella  double_signature    jumbo   \n",
       "\n",
       "  extra_sauce extra_cheese extra_mushrooms  \n",
       "0         yes          yes              no  \n",
       "1         yes          yes              no  \n",
       "2         yes          yes             yes  \n",
       "3         yes           no             yes  \n",
       "4         yes           no             yes  "
      ]
     },
     "execution_count": 4,
     "metadata": {},
     "output_type": "execute_result"
    }
   ],
   "source": [
    "data.head()"
   ]
  },
  {
   "cell_type": "markdown",
   "id": "e9eead59",
   "metadata": {
    "papermill": {
     "duration": 0.035139,
     "end_time": "2021-09-04T13:36:01.859815",
     "exception": false,
     "start_time": "2021-09-04T13:36:01.824676",
     "status": "completed"
    },
    "tags": []
   },
   "source": [
    "# Analyzing Preparing the Dataset"
   ]
  },
  {
   "cell_type": "code",
   "execution_count": 5,
   "id": "0067db8a",
   "metadata": {
    "execution": {
     "iopub.execute_input": "2021-09-04T13:36:01.929238Z",
     "iopub.status.busy": "2021-09-04T13:36:01.928796Z",
     "iopub.status.idle": "2021-09-04T13:36:01.931323Z",
     "shell.execute_reply": "2021-09-04T13:36:01.930860Z",
     "shell.execute_reply.started": "2021-09-04T12:38:06.503649Z"
    },
    "papermill": {
     "duration": 0.039356,
     "end_time": "2021-09-04T13:36:01.931415",
     "exception": false,
     "start_time": "2021-09-04T13:36:01.892059",
     "status": "completed"
    },
    "tags": []
   },
   "outputs": [
    {
     "data": {
      "text/plain": [
       "company            0\n",
       "price_rupiah       0\n",
       "diameter           0\n",
       "topping            0\n",
       "variant            0\n",
       "size               0\n",
       "extra_sauce        0\n",
       "extra_cheese       0\n",
       "extra_mushrooms    0\n",
       "dtype: int64"
      ]
     },
     "execution_count": 5,
     "metadata": {},
     "output_type": "execute_result"
    }
   ],
   "source": [
    "data.isnull().sum()"
   ]
  },
  {
   "cell_type": "markdown",
   "id": "0872ff04",
   "metadata": {
    "papermill": {
     "duration": 0.030217,
     "end_time": "2021-09-04T13:36:01.992240",
     "exception": false,
     "start_time": "2021-09-04T13:36:01.962023",
     "status": "completed"
    },
    "tags": []
   },
   "source": [
    "### No Missing Values"
   ]
  },
  {
   "cell_type": "code",
   "execution_count": 6,
   "id": "13ecf0b1",
   "metadata": {
    "execution": {
     "iopub.execute_input": "2021-09-04T13:36:02.058061Z",
     "iopub.status.busy": "2021-09-04T13:36:02.057625Z",
     "iopub.status.idle": "2021-09-04T13:36:02.067089Z",
     "shell.execute_reply": "2021-09-04T13:36:02.067507Z",
     "shell.execute_reply.started": "2021-09-04T12:38:06.539167Z"
    },
    "papermill": {
     "duration": 0.044861,
     "end_time": "2021-09-04T13:36:02.067710",
     "exception": false,
     "start_time": "2021-09-04T13:36:02.022849",
     "status": "completed"
    },
    "tags": []
   },
   "outputs": [
    {
     "data": {
      "text/plain": [
       "<bound method NDFrame.describe of     company price_rupiah  diameter      topping           variant     size  \\\n",
       "0         A    Rp235,000   22 inch      chicken  double_signature    jumbo   \n",
       "1         A    Rp198,000   20 inch    papperoni  double_signature    jumbo   \n",
       "2         A    Rp120,000   16 inch    mushrooms  double_signature  reguler   \n",
       "3         A    Rp155,000   14 inch  smoked_beef  double_signature  reguler   \n",
       "4         A    Rp248,000   18 inch   mozzarella  double_signature    jumbo   \n",
       "..      ...          ...       ...          ...               ...      ...   \n",
       "124       E     Rp39,000  8.5 inch         tuna        spicy tuna    small   \n",
       "125       E     Rp72,000   12 inch         tuna        spicy tuna   medium   \n",
       "126       E     Rp99,000   14 inch         tuna        spicy tuna    large   \n",
       "127       E     Rp44,000  8.5 inch         meat   BBQ_meat_fiesta    small   \n",
       "128       E     Rp78,000   12 inch         meat   BBQ_meat_fiesta   medium   \n",
       "\n",
       "    extra_sauce extra_cheese extra_mushrooms  \n",
       "0           yes          yes              no  \n",
       "1           yes          yes              no  \n",
       "2           yes          yes             yes  \n",
       "3           yes           no             yes  \n",
       "4           yes           no             yes  \n",
       "..          ...          ...             ...  \n",
       "124         yes          yes             yes  \n",
       "125         yes          yes             yes  \n",
       "126         yes          yes             yes  \n",
       "127         yes           no             yes  \n",
       "128          no           no             yes  \n",
       "\n",
       "[129 rows x 9 columns]>"
      ]
     },
     "execution_count": 6,
     "metadata": {},
     "output_type": "execute_result"
    }
   ],
   "source": [
    "data.describe"
   ]
  },
  {
   "cell_type": "code",
   "execution_count": 7,
   "id": "e938d6b3",
   "metadata": {
    "execution": {
     "iopub.execute_input": "2021-09-04T13:36:02.134062Z",
     "iopub.status.busy": "2021-09-04T13:36:02.133634Z",
     "iopub.status.idle": "2021-09-04T13:36:02.150362Z",
     "shell.execute_reply": "2021-09-04T13:36:02.149891Z",
     "shell.execute_reply.started": "2021-09-04T12:38:06.555714Z"
    },
    "papermill": {
     "duration": 0.05036,
     "end_time": "2021-09-04T13:36:02.150493",
     "exception": false,
     "start_time": "2021-09-04T13:36:02.100133",
     "status": "completed"
    },
    "tags": []
   },
   "outputs": [
    {
     "name": "stdout",
     "output_type": "stream",
     "text": [
      "<class 'pandas.core.frame.DataFrame'>\n",
      "RangeIndex: 129 entries, 0 to 128\n",
      "Data columns (total 9 columns):\n",
      " #   Column           Non-Null Count  Dtype \n",
      "---  ------           --------------  ----- \n",
      " 0   company          129 non-null    object\n",
      " 1   price_rupiah     129 non-null    object\n",
      " 2   diameter         129 non-null    object\n",
      " 3   topping          129 non-null    object\n",
      " 4   variant          129 non-null    object\n",
      " 5   size             129 non-null    object\n",
      " 6   extra_sauce      129 non-null    object\n",
      " 7   extra_cheese     129 non-null    object\n",
      " 8   extra_mushrooms  129 non-null    object\n",
      "dtypes: object(9)\n",
      "memory usage: 9.2+ KB\n"
     ]
    }
   ],
   "source": [
    "data.info()"
   ]
  },
  {
   "cell_type": "markdown",
   "id": "a4fb33f9",
   "metadata": {
    "papermill": {
     "duration": 0.03265,
     "end_time": "2021-09-04T13:36:02.216128",
     "exception": false,
     "start_time": "2021-09-04T13:36:02.183478",
     "status": "completed"
    },
    "tags": []
   },
   "source": [
    "### All object values"
   ]
  },
  {
   "cell_type": "markdown",
   "id": "83d84c7e",
   "metadata": {
    "papermill": {
     "duration": 0.032162,
     "end_time": "2021-09-04T13:36:02.281980",
     "exception": false,
     "start_time": "2021-09-04T13:36:02.249818",
     "status": "completed"
    },
    "tags": []
   },
   "source": [
    "### Convering Object data like Price and Diameter to numerical "
   ]
  },
  {
   "cell_type": "code",
   "execution_count": 8,
   "id": "2e021b29",
   "metadata": {
    "execution": {
     "iopub.execute_input": "2021-09-04T13:36:02.359938Z",
     "iopub.status.busy": "2021-09-04T13:36:02.359432Z",
     "iopub.status.idle": "2021-09-04T13:36:02.361426Z",
     "shell.execute_reply": "2021-09-04T13:36:02.361882Z",
     "shell.execute_reply.started": "2021-09-04T12:38:06.796300Z"
    },
    "papermill": {
     "duration": 0.046515,
     "end_time": "2021-09-04T13:36:02.362009",
     "exception": false,
     "start_time": "2021-09-04T13:36:02.315494",
     "status": "completed"
    },
    "tags": []
   },
   "outputs": [
    {
     "data": {
      "text/html": [
       "<div>\n",
       "<style scoped>\n",
       "    .dataframe tbody tr th:only-of-type {\n",
       "        vertical-align: middle;\n",
       "    }\n",
       "\n",
       "    .dataframe tbody tr th {\n",
       "        vertical-align: top;\n",
       "    }\n",
       "\n",
       "    .dataframe thead th {\n",
       "        text-align: right;\n",
       "    }\n",
       "</style>\n",
       "<table border=\"1\" class=\"dataframe\">\n",
       "  <thead>\n",
       "    <tr style=\"text-align: right;\">\n",
       "      <th></th>\n",
       "      <th>company</th>\n",
       "      <th>price_rupiah</th>\n",
       "      <th>diameter</th>\n",
       "      <th>topping</th>\n",
       "      <th>variant</th>\n",
       "      <th>size</th>\n",
       "      <th>extra_sauce</th>\n",
       "      <th>extra_cheese</th>\n",
       "      <th>extra_mushrooms</th>\n",
       "    </tr>\n",
       "  </thead>\n",
       "  <tbody>\n",
       "    <tr>\n",
       "      <th>0</th>\n",
       "      <td>A</td>\n",
       "      <td>Rp235,000</td>\n",
       "      <td>22 inch</td>\n",
       "      <td>chicken</td>\n",
       "      <td>double_signature</td>\n",
       "      <td>jumbo</td>\n",
       "      <td>yes</td>\n",
       "      <td>yes</td>\n",
       "      <td>no</td>\n",
       "    </tr>\n",
       "    <tr>\n",
       "      <th>1</th>\n",
       "      <td>A</td>\n",
       "      <td>Rp198,000</td>\n",
       "      <td>20 inch</td>\n",
       "      <td>papperoni</td>\n",
       "      <td>double_signature</td>\n",
       "      <td>jumbo</td>\n",
       "      <td>yes</td>\n",
       "      <td>yes</td>\n",
       "      <td>no</td>\n",
       "    </tr>\n",
       "    <tr>\n",
       "      <th>2</th>\n",
       "      <td>A</td>\n",
       "      <td>Rp120,000</td>\n",
       "      <td>16 inch</td>\n",
       "      <td>mushrooms</td>\n",
       "      <td>double_signature</td>\n",
       "      <td>reguler</td>\n",
       "      <td>yes</td>\n",
       "      <td>yes</td>\n",
       "      <td>yes</td>\n",
       "    </tr>\n",
       "    <tr>\n",
       "      <th>3</th>\n",
       "      <td>A</td>\n",
       "      <td>Rp155,000</td>\n",
       "      <td>14 inch</td>\n",
       "      <td>smoked_beef</td>\n",
       "      <td>double_signature</td>\n",
       "      <td>reguler</td>\n",
       "      <td>yes</td>\n",
       "      <td>no</td>\n",
       "      <td>yes</td>\n",
       "    </tr>\n",
       "    <tr>\n",
       "      <th>4</th>\n",
       "      <td>A</td>\n",
       "      <td>Rp248,000</td>\n",
       "      <td>18 inch</td>\n",
       "      <td>mozzarella</td>\n",
       "      <td>double_signature</td>\n",
       "      <td>jumbo</td>\n",
       "      <td>yes</td>\n",
       "      <td>no</td>\n",
       "      <td>yes</td>\n",
       "    </tr>\n",
       "  </tbody>\n",
       "</table>\n",
       "</div>"
      ],
      "text/plain": [
       "  company price_rupiah diameter      topping           variant     size  \\\n",
       "0       A    Rp235,000  22 inch      chicken  double_signature    jumbo   \n",
       "1       A    Rp198,000  20 inch    papperoni  double_signature    jumbo   \n",
       "2       A    Rp120,000  16 inch    mushrooms  double_signature  reguler   \n",
       "3       A    Rp155,000  14 inch  smoked_beef  double_signature  reguler   \n",
       "4       A    Rp248,000  18 inch   mozzarella  double_signature    jumbo   \n",
       "\n",
       "  extra_sauce extra_cheese extra_mushrooms  \n",
       "0         yes          yes              no  \n",
       "1         yes          yes              no  \n",
       "2         yes          yes             yes  \n",
       "3         yes           no             yes  \n",
       "4         yes           no             yes  "
      ]
     },
     "execution_count": 8,
     "metadata": {},
     "output_type": "execute_result"
    }
   ],
   "source": [
    "data.head()"
   ]
  },
  {
   "cell_type": "code",
   "execution_count": 9,
   "id": "38c760c5",
   "metadata": {
    "execution": {
     "iopub.execute_input": "2021-09-04T13:36:02.428560Z",
     "iopub.status.busy": "2021-09-04T13:36:02.428094Z",
     "iopub.status.idle": "2021-09-04T13:36:02.433499Z",
     "shell.execute_reply": "2021-09-04T13:36:02.433943Z",
     "shell.execute_reply.started": "2021-09-04T12:38:06.813825Z"
    },
    "papermill": {
     "duration": 0.039797,
     "end_time": "2021-09-04T13:36:02.434069",
     "exception": false,
     "start_time": "2021-09-04T13:36:02.394272",
     "status": "completed"
    },
    "tags": []
   },
   "outputs": [],
   "source": [
    "data['price_rupiah'] = data['price_rupiah'].apply(lambda x : x.replace(\"Rp\",\"\").replace(\",\",\"\"))\n",
    "# remove rp and comma and store it in new price column\n",
    "data['diameter'] = data['diameter'].apply(lambda x : x.replace(\" inch\",\"\"))\n",
    "#remove inch and store it in new column"
   ]
  },
  {
   "cell_type": "markdown",
   "id": "10767b63",
   "metadata": {
    "papermill": {
     "duration": 0.032098,
     "end_time": "2021-09-04T13:36:02.499269",
     "exception": false,
     "start_time": "2021-09-04T13:36:02.467171",
     "status": "completed"
    },
    "tags": []
   },
   "source": []
  },
  {
   "cell_type": "code",
   "execution_count": 10,
   "id": "afb4a61c",
   "metadata": {
    "execution": {
     "iopub.execute_input": "2021-09-04T13:36:02.575293Z",
     "iopub.status.busy": "2021-09-04T13:36:02.574855Z",
     "iopub.status.idle": "2021-09-04T13:36:02.578040Z",
     "shell.execute_reply": "2021-09-04T13:36:02.577690Z",
     "shell.execute_reply.started": "2021-09-04T12:38:07.008348Z"
    },
    "papermill": {
     "duration": 0.046254,
     "end_time": "2021-09-04T13:36:02.578135",
     "exception": false,
     "start_time": "2021-09-04T13:36:02.531881",
     "status": "completed"
    },
    "tags": []
   },
   "outputs": [
    {
     "data": {
      "text/html": [
       "<div>\n",
       "<style scoped>\n",
       "    .dataframe tbody tr th:only-of-type {\n",
       "        vertical-align: middle;\n",
       "    }\n",
       "\n",
       "    .dataframe tbody tr th {\n",
       "        vertical-align: top;\n",
       "    }\n",
       "\n",
       "    .dataframe thead th {\n",
       "        text-align: right;\n",
       "    }\n",
       "</style>\n",
       "<table border=\"1\" class=\"dataframe\">\n",
       "  <thead>\n",
       "    <tr style=\"text-align: right;\">\n",
       "      <th></th>\n",
       "      <th>company</th>\n",
       "      <th>price_rupiah</th>\n",
       "      <th>diameter</th>\n",
       "      <th>topping</th>\n",
       "      <th>variant</th>\n",
       "      <th>size</th>\n",
       "      <th>extra_sauce</th>\n",
       "      <th>extra_cheese</th>\n",
       "      <th>extra_mushrooms</th>\n",
       "    </tr>\n",
       "  </thead>\n",
       "  <tbody>\n",
       "    <tr>\n",
       "      <th>0</th>\n",
       "      <td>A</td>\n",
       "      <td>235000</td>\n",
       "      <td>22</td>\n",
       "      <td>chicken</td>\n",
       "      <td>double_signature</td>\n",
       "      <td>jumbo</td>\n",
       "      <td>yes</td>\n",
       "      <td>yes</td>\n",
       "      <td>no</td>\n",
       "    </tr>\n",
       "    <tr>\n",
       "      <th>1</th>\n",
       "      <td>A</td>\n",
       "      <td>198000</td>\n",
       "      <td>20</td>\n",
       "      <td>papperoni</td>\n",
       "      <td>double_signature</td>\n",
       "      <td>jumbo</td>\n",
       "      <td>yes</td>\n",
       "      <td>yes</td>\n",
       "      <td>no</td>\n",
       "    </tr>\n",
       "    <tr>\n",
       "      <th>2</th>\n",
       "      <td>A</td>\n",
       "      <td>120000</td>\n",
       "      <td>16</td>\n",
       "      <td>mushrooms</td>\n",
       "      <td>double_signature</td>\n",
       "      <td>reguler</td>\n",
       "      <td>yes</td>\n",
       "      <td>yes</td>\n",
       "      <td>yes</td>\n",
       "    </tr>\n",
       "    <tr>\n",
       "      <th>3</th>\n",
       "      <td>A</td>\n",
       "      <td>155000</td>\n",
       "      <td>14</td>\n",
       "      <td>smoked_beef</td>\n",
       "      <td>double_signature</td>\n",
       "      <td>reguler</td>\n",
       "      <td>yes</td>\n",
       "      <td>no</td>\n",
       "      <td>yes</td>\n",
       "    </tr>\n",
       "    <tr>\n",
       "      <th>4</th>\n",
       "      <td>A</td>\n",
       "      <td>248000</td>\n",
       "      <td>18</td>\n",
       "      <td>mozzarella</td>\n",
       "      <td>double_signature</td>\n",
       "      <td>jumbo</td>\n",
       "      <td>yes</td>\n",
       "      <td>no</td>\n",
       "      <td>yes</td>\n",
       "    </tr>\n",
       "  </tbody>\n",
       "</table>\n",
       "</div>"
      ],
      "text/plain": [
       "  company price_rupiah diameter      topping           variant     size  \\\n",
       "0       A       235000       22      chicken  double_signature    jumbo   \n",
       "1       A       198000       20    papperoni  double_signature    jumbo   \n",
       "2       A       120000       16    mushrooms  double_signature  reguler   \n",
       "3       A       155000       14  smoked_beef  double_signature  reguler   \n",
       "4       A       248000       18   mozzarella  double_signature    jumbo   \n",
       "\n",
       "  extra_sauce extra_cheese extra_mushrooms  \n",
       "0         yes          yes              no  \n",
       "1         yes          yes              no  \n",
       "2         yes          yes             yes  \n",
       "3         yes           no             yes  \n",
       "4         yes           no             yes  "
      ]
     },
     "execution_count": 10,
     "metadata": {},
     "output_type": "execute_result"
    }
   ],
   "source": [
    "data.head()"
   ]
  },
  {
   "cell_type": "code",
   "execution_count": 11,
   "id": "6ec8df76",
   "metadata": {
    "execution": {
     "iopub.execute_input": "2021-09-04T13:36:02.648201Z",
     "iopub.status.busy": "2021-09-04T13:36:02.647769Z",
     "iopub.status.idle": "2021-09-04T13:36:02.650316Z",
     "shell.execute_reply": "2021-09-04T13:36:02.649954Z",
     "shell.execute_reply.started": "2021-09-04T12:38:07.023210Z"
    },
    "papermill": {
     "duration": 0.039722,
     "end_time": "2021-09-04T13:36:02.650410",
     "exception": false,
     "start_time": "2021-09-04T13:36:02.610688",
     "status": "completed"
    },
    "tags": []
   },
   "outputs": [],
   "source": [
    "data[\"diameter\"] = data[\"diameter\"].astype(float)\n",
    "data[\"price_rupiah\"] = data[\"price_rupiah\"].astype(float)"
   ]
  },
  {
   "cell_type": "code",
   "execution_count": 12,
   "id": "64bd0595",
   "metadata": {
    "execution": {
     "iopub.execute_input": "2021-09-04T13:36:02.728207Z",
     "iopub.status.busy": "2021-09-04T13:36:02.727736Z",
     "iopub.status.idle": "2021-09-04T13:36:02.732371Z",
     "shell.execute_reply": "2021-09-04T13:36:02.732757Z",
     "shell.execute_reply.started": "2021-09-04T12:38:07.029372Z"
    },
    "papermill": {
     "duration": 0.049368,
     "end_time": "2021-09-04T13:36:02.732885",
     "exception": false,
     "start_time": "2021-09-04T13:36:02.683517",
     "status": "completed"
    },
    "tags": []
   },
   "outputs": [
    {
     "name": "stdout",
     "output_type": "stream",
     "text": [
      "<class 'pandas.core.frame.DataFrame'>\n",
      "RangeIndex: 129 entries, 0 to 128\n",
      "Data columns (total 9 columns):\n",
      " #   Column           Non-Null Count  Dtype  \n",
      "---  ------           --------------  -----  \n",
      " 0   company          129 non-null    object \n",
      " 1   price_rupiah     129 non-null    float64\n",
      " 2   diameter         129 non-null    float64\n",
      " 3   topping          129 non-null    object \n",
      " 4   variant          129 non-null    object \n",
      " 5   size             129 non-null    object \n",
      " 6   extra_sauce      129 non-null    object \n",
      " 7   extra_cheese     129 non-null    object \n",
      " 8   extra_mushrooms  129 non-null    object \n",
      "dtypes: float64(2), object(7)\n",
      "memory usage: 9.2+ KB\n"
     ]
    }
   ],
   "source": [
    "data.info()"
   ]
  },
  {
   "cell_type": "code",
   "execution_count": 13,
   "id": "c7d82d7c",
   "metadata": {
    "execution": {
     "iopub.execute_input": "2021-09-04T13:36:02.810362Z",
     "iopub.status.busy": "2021-09-04T13:36:02.805831Z",
     "iopub.status.idle": "2021-09-04T13:36:02.813748Z",
     "shell.execute_reply": "2021-09-04T13:36:02.813365Z",
     "shell.execute_reply.started": "2021-09-04T12:38:07.206918Z"
    },
    "papermill": {
     "duration": 0.048236,
     "end_time": "2021-09-04T13:36:02.813858",
     "exception": false,
     "start_time": "2021-09-04T13:36:02.765622",
     "status": "completed"
    },
    "tags": []
   },
   "outputs": [
    {
     "data": {
      "text/html": [
       "<div>\n",
       "<style scoped>\n",
       "    .dataframe tbody tr th:only-of-type {\n",
       "        vertical-align: middle;\n",
       "    }\n",
       "\n",
       "    .dataframe tbody tr th {\n",
       "        vertical-align: top;\n",
       "    }\n",
       "\n",
       "    .dataframe thead th {\n",
       "        text-align: right;\n",
       "    }\n",
       "</style>\n",
       "<table border=\"1\" class=\"dataframe\">\n",
       "  <thead>\n",
       "    <tr style=\"text-align: right;\">\n",
       "      <th></th>\n",
       "      <th>company</th>\n",
       "      <th>price_rupiah</th>\n",
       "      <th>diameter</th>\n",
       "      <th>topping</th>\n",
       "      <th>variant</th>\n",
       "      <th>size</th>\n",
       "      <th>extra_sauce</th>\n",
       "      <th>extra_cheese</th>\n",
       "      <th>extra_mushrooms</th>\n",
       "    </tr>\n",
       "  </thead>\n",
       "  <tbody>\n",
       "    <tr>\n",
       "      <th>0</th>\n",
       "      <td>A</td>\n",
       "      <td>235000.0</td>\n",
       "      <td>22.0</td>\n",
       "      <td>chicken</td>\n",
       "      <td>double_signature</td>\n",
       "      <td>jumbo</td>\n",
       "      <td>yes</td>\n",
       "      <td>yes</td>\n",
       "      <td>no</td>\n",
       "    </tr>\n",
       "    <tr>\n",
       "      <th>1</th>\n",
       "      <td>A</td>\n",
       "      <td>198000.0</td>\n",
       "      <td>20.0</td>\n",
       "      <td>papperoni</td>\n",
       "      <td>double_signature</td>\n",
       "      <td>jumbo</td>\n",
       "      <td>yes</td>\n",
       "      <td>yes</td>\n",
       "      <td>no</td>\n",
       "    </tr>\n",
       "    <tr>\n",
       "      <th>2</th>\n",
       "      <td>A</td>\n",
       "      <td>120000.0</td>\n",
       "      <td>16.0</td>\n",
       "      <td>mushrooms</td>\n",
       "      <td>double_signature</td>\n",
       "      <td>reguler</td>\n",
       "      <td>yes</td>\n",
       "      <td>yes</td>\n",
       "      <td>yes</td>\n",
       "    </tr>\n",
       "    <tr>\n",
       "      <th>3</th>\n",
       "      <td>A</td>\n",
       "      <td>155000.0</td>\n",
       "      <td>14.0</td>\n",
       "      <td>smoked_beef</td>\n",
       "      <td>double_signature</td>\n",
       "      <td>reguler</td>\n",
       "      <td>yes</td>\n",
       "      <td>no</td>\n",
       "      <td>yes</td>\n",
       "    </tr>\n",
       "    <tr>\n",
       "      <th>4</th>\n",
       "      <td>A</td>\n",
       "      <td>248000.0</td>\n",
       "      <td>18.0</td>\n",
       "      <td>mozzarella</td>\n",
       "      <td>double_signature</td>\n",
       "      <td>jumbo</td>\n",
       "      <td>yes</td>\n",
       "      <td>no</td>\n",
       "      <td>yes</td>\n",
       "    </tr>\n",
       "  </tbody>\n",
       "</table>\n",
       "</div>"
      ],
      "text/plain": [
       "  company  price_rupiah  diameter      topping           variant     size  \\\n",
       "0       A      235000.0      22.0      chicken  double_signature    jumbo   \n",
       "1       A      198000.0      20.0    papperoni  double_signature    jumbo   \n",
       "2       A      120000.0      16.0    mushrooms  double_signature  reguler   \n",
       "3       A      155000.0      14.0  smoked_beef  double_signature  reguler   \n",
       "4       A      248000.0      18.0   mozzarella  double_signature    jumbo   \n",
       "\n",
       "  extra_sauce extra_cheese extra_mushrooms  \n",
       "0         yes          yes              no  \n",
       "1         yes          yes              no  \n",
       "2         yes          yes             yes  \n",
       "3         yes           no             yes  \n",
       "4         yes           no             yes  "
      ]
     },
     "execution_count": 13,
     "metadata": {},
     "output_type": "execute_result"
    }
   ],
   "source": [
    "data.head()"
   ]
  },
  {
   "cell_type": "markdown",
   "id": "4b9cff09",
   "metadata": {
    "papermill": {
     "duration": 0.033236,
     "end_time": "2021-09-04T13:36:02.880160",
     "exception": false,
     "start_time": "2021-09-04T13:36:02.846924",
     "status": "completed"
    },
    "tags": []
   },
   "source": [
    "### Checking for categories under each categorical feature\n"
   ]
  },
  {
   "cell_type": "code",
   "execution_count": 14,
   "id": "2465f8c5",
   "metadata": {
    "execution": {
     "iopub.execute_input": "2021-09-04T13:36:02.952067Z",
     "iopub.status.busy": "2021-09-04T13:36:02.951617Z",
     "iopub.status.idle": "2021-09-04T13:36:02.954176Z",
     "shell.execute_reply": "2021-09-04T13:36:02.954616Z",
     "shell.execute_reply.started": "2021-09-04T12:38:07.226411Z"
    },
    "papermill": {
     "duration": 0.040375,
     "end_time": "2021-09-04T13:36:02.954738",
     "exception": false,
     "start_time": "2021-09-04T13:36:02.914363",
     "status": "completed"
    },
    "tags": []
   },
   "outputs": [
    {
     "data": {
      "text/plain": [
       "array(['chicken', 'papperoni', 'mushrooms', 'smoked_beef', 'mozzarella',\n",
       "       'black_papper', 'tuna', 'meat', 'sausage', 'onion', 'vegetables',\n",
       "       'beef'], dtype=object)"
      ]
     },
     "execution_count": 14,
     "metadata": {},
     "output_type": "execute_result"
    }
   ],
   "source": [
    "data['topping'].unique()"
   ]
  },
  {
   "cell_type": "code",
   "execution_count": 15,
   "id": "b992d93c",
   "metadata": {
    "execution": {
     "iopub.execute_input": "2021-09-04T13:36:03.023074Z",
     "iopub.status.busy": "2021-09-04T13:36:03.022652Z",
     "iopub.status.idle": "2021-09-04T13:36:03.026882Z",
     "shell.execute_reply": "2021-09-04T13:36:03.027271Z",
     "shell.execute_reply.started": "2021-09-04T12:38:07.242996Z"
    },
    "papermill": {
     "duration": 0.039549,
     "end_time": "2021-09-04T13:36:03.027385",
     "exception": false,
     "start_time": "2021-09-04T13:36:02.987836",
     "status": "completed"
    },
    "tags": []
   },
   "outputs": [
    {
     "data": {
      "text/plain": [
       "array(['double_signature', 'american_favorite', 'super_supreme',\n",
       "       'meat_lovers', 'double_mix', 'classic', 'crunchy', 'new_york',\n",
       "       'double_decker', 'spicy_tuna', 'BBQ_meat_fiesta', 'BBQ_sausage',\n",
       "       'extravaganza', 'meat_eater', 'gournet_greek', 'italian_veggie',\n",
       "       'thai_veggie', 'american_classic', 'neptune_tuna', 'spicy tuna'],\n",
       "      dtype=object)"
      ]
     },
     "execution_count": 15,
     "metadata": {},
     "output_type": "execute_result"
    }
   ],
   "source": [
    "data['variant'].unique()"
   ]
  },
  {
   "cell_type": "code",
   "execution_count": 16,
   "id": "6f744449",
   "metadata": {
    "execution": {
     "iopub.execute_input": "2021-09-04T13:36:03.109596Z",
     "iopub.status.busy": "2021-09-04T13:36:03.108821Z",
     "iopub.status.idle": "2021-09-04T13:36:03.113449Z",
     "shell.execute_reply": "2021-09-04T13:36:03.112784Z",
     "shell.execute_reply.started": "2021-09-04T12:38:07.255554Z"
    },
    "papermill": {
     "duration": 0.04896,
     "end_time": "2021-09-04T13:36:03.113606",
     "exception": false,
     "start_time": "2021-09-04T13:36:03.064646",
     "status": "completed"
    },
    "tags": []
   },
   "outputs": [
    {
     "data": {
      "text/plain": [
       "array(['jumbo', 'reguler', 'small', 'medium', 'large', 'XL'], dtype=object)"
      ]
     },
     "execution_count": 16,
     "metadata": {},
     "output_type": "execute_result"
    }
   ],
   "source": [
    "data['size'].unique()"
   ]
  },
  {
   "cell_type": "code",
   "execution_count": 17,
   "id": "5bbd34cb",
   "metadata": {
    "execution": {
     "iopub.execute_input": "2021-09-04T13:36:03.226307Z",
     "iopub.status.busy": "2021-09-04T13:36:03.224513Z",
     "iopub.status.idle": "2021-09-04T13:36:03.230083Z",
     "shell.execute_reply": "2021-09-04T13:36:03.229647Z",
     "shell.execute_reply.started": "2021-09-04T12:38:07.270072Z"
    },
    "papermill": {
     "duration": 0.059916,
     "end_time": "2021-09-04T13:36:03.230172",
     "exception": false,
     "start_time": "2021-09-04T13:36:03.170256",
     "status": "completed"
    },
    "tags": []
   },
   "outputs": [
    {
     "data": {
      "text/plain": [
       "array(['yes', 'no'], dtype=object)"
      ]
     },
     "execution_count": 17,
     "metadata": {},
     "output_type": "execute_result"
    }
   ],
   "source": [
    "data['extra_sauce'].unique()"
   ]
  },
  {
   "cell_type": "code",
   "execution_count": 18,
   "id": "4e047cfd",
   "metadata": {
    "execution": {
     "iopub.execute_input": "2021-09-04T13:36:03.302821Z",
     "iopub.status.busy": "2021-09-04T13:36:03.302335Z",
     "iopub.status.idle": "2021-09-04T13:36:03.305680Z",
     "shell.execute_reply": "2021-09-04T13:36:03.306049Z",
     "shell.execute_reply.started": "2021-09-04T12:38:07.286267Z"
    },
    "papermill": {
     "duration": 0.041838,
     "end_time": "2021-09-04T13:36:03.306176",
     "exception": false,
     "start_time": "2021-09-04T13:36:03.264338",
     "status": "completed"
    },
    "tags": []
   },
   "outputs": [
    {
     "data": {
      "text/plain": [
       "array(['yes', 'no'], dtype=object)"
      ]
     },
     "execution_count": 18,
     "metadata": {},
     "output_type": "execute_result"
    }
   ],
   "source": [
    "data['extra_cheese'].unique()"
   ]
  },
  {
   "cell_type": "code",
   "execution_count": 19,
   "id": "4c54b4de",
   "metadata": {
    "execution": {
     "iopub.execute_input": "2021-09-04T13:36:03.380757Z",
     "iopub.status.busy": "2021-09-04T13:36:03.380126Z",
     "iopub.status.idle": "2021-09-04T13:36:03.382456Z",
     "shell.execute_reply": "2021-09-04T13:36:03.382952Z",
     "shell.execute_reply.started": "2021-09-04T12:38:07.301113Z"
    },
    "papermill": {
     "duration": 0.042589,
     "end_time": "2021-09-04T13:36:03.383104",
     "exception": false,
     "start_time": "2021-09-04T13:36:03.340515",
     "status": "completed"
    },
    "tags": []
   },
   "outputs": [
    {
     "data": {
      "text/plain": [
       "array(['no', 'yes'], dtype=object)"
      ]
     },
     "execution_count": 19,
     "metadata": {},
     "output_type": "execute_result"
    }
   ],
   "source": [
    "data['extra_mushrooms'].unique()"
   ]
  },
  {
   "cell_type": "markdown",
   "id": "f9dc7b18",
   "metadata": {
    "papermill": {
     "duration": 0.053292,
     "end_time": "2021-09-04T13:36:03.490374",
     "exception": false,
     "start_time": "2021-09-04T13:36:03.437082",
     "status": "completed"
    },
    "tags": []
   },
   "source": [
    "### Encoding categorical features"
   ]
  },
  {
   "cell_type": "code",
   "execution_count": 20,
   "id": "86818153",
   "metadata": {
    "execution": {
     "iopub.execute_input": "2021-09-04T13:36:03.600609Z",
     "iopub.status.busy": "2021-09-04T13:36:03.600000Z",
     "iopub.status.idle": "2021-09-04T13:36:03.605301Z",
     "shell.execute_reply": "2021-09-04T13:36:03.605849Z",
     "shell.execute_reply.started": "2021-09-04T12:38:07.309357Z"
    },
    "papermill": {
     "duration": 0.062315,
     "end_time": "2021-09-04T13:36:03.606184",
     "exception": false,
     "start_time": "2021-09-04T13:36:03.543869",
     "status": "completed"
    },
    "tags": []
   },
   "outputs": [],
   "source": [
    "en = LabelEncoder()\n",
    "catCols = ['company','topping','variant','size','extra_sauce','extra_cheese','extra_mushrooms']\n",
    "for cols in catCols:\n",
    "    data[cols] = en.fit_transform(data[cols])"
   ]
  },
  {
   "cell_type": "code",
   "execution_count": 21,
   "id": "318c8460",
   "metadata": {
    "execution": {
     "iopub.execute_input": "2021-09-04T13:36:03.718557Z",
     "iopub.status.busy": "2021-09-04T13:36:03.717905Z",
     "iopub.status.idle": "2021-09-04T13:36:03.726886Z",
     "shell.execute_reply": "2021-09-04T13:36:03.727381Z",
     "shell.execute_reply.started": "2021-09-04T12:38:07.474144Z"
    },
    "papermill": {
     "duration": 0.066835,
     "end_time": "2021-09-04T13:36:03.727562",
     "exception": false,
     "start_time": "2021-09-04T13:36:03.660727",
     "status": "completed"
    },
    "tags": []
   },
   "outputs": [
    {
     "data": {
      "text/html": [
       "<div>\n",
       "<style scoped>\n",
       "    .dataframe tbody tr th:only-of-type {\n",
       "        vertical-align: middle;\n",
       "    }\n",
       "\n",
       "    .dataframe tbody tr th {\n",
       "        vertical-align: top;\n",
       "    }\n",
       "\n",
       "    .dataframe thead th {\n",
       "        text-align: right;\n",
       "    }\n",
       "</style>\n",
       "<table border=\"1\" class=\"dataframe\">\n",
       "  <thead>\n",
       "    <tr style=\"text-align: right;\">\n",
       "      <th></th>\n",
       "      <th>company</th>\n",
       "      <th>price_rupiah</th>\n",
       "      <th>diameter</th>\n",
       "      <th>topping</th>\n",
       "      <th>variant</th>\n",
       "      <th>size</th>\n",
       "      <th>extra_sauce</th>\n",
       "      <th>extra_cheese</th>\n",
       "      <th>extra_mushrooms</th>\n",
       "    </tr>\n",
       "  </thead>\n",
       "  <tbody>\n",
       "    <tr>\n",
       "      <th>0</th>\n",
       "      <td>0</td>\n",
       "      <td>235000.0</td>\n",
       "      <td>22.0</td>\n",
       "      <td>2</td>\n",
       "      <td>8</td>\n",
       "      <td>1</td>\n",
       "      <td>1</td>\n",
       "      <td>1</td>\n",
       "      <td>0</td>\n",
       "    </tr>\n",
       "    <tr>\n",
       "      <th>1</th>\n",
       "      <td>0</td>\n",
       "      <td>198000.0</td>\n",
       "      <td>20.0</td>\n",
       "      <td>7</td>\n",
       "      <td>8</td>\n",
       "      <td>1</td>\n",
       "      <td>1</td>\n",
       "      <td>1</td>\n",
       "      <td>0</td>\n",
       "    </tr>\n",
       "    <tr>\n",
       "      <th>2</th>\n",
       "      <td>0</td>\n",
       "      <td>120000.0</td>\n",
       "      <td>16.0</td>\n",
       "      <td>5</td>\n",
       "      <td>8</td>\n",
       "      <td>4</td>\n",
       "      <td>1</td>\n",
       "      <td>1</td>\n",
       "      <td>1</td>\n",
       "    </tr>\n",
       "    <tr>\n",
       "      <th>3</th>\n",
       "      <td>0</td>\n",
       "      <td>155000.0</td>\n",
       "      <td>14.0</td>\n",
       "      <td>9</td>\n",
       "      <td>8</td>\n",
       "      <td>4</td>\n",
       "      <td>1</td>\n",
       "      <td>0</td>\n",
       "      <td>1</td>\n",
       "    </tr>\n",
       "    <tr>\n",
       "      <th>4</th>\n",
       "      <td>0</td>\n",
       "      <td>248000.0</td>\n",
       "      <td>18.0</td>\n",
       "      <td>4</td>\n",
       "      <td>8</td>\n",
       "      <td>1</td>\n",
       "      <td>1</td>\n",
       "      <td>0</td>\n",
       "      <td>1</td>\n",
       "    </tr>\n",
       "  </tbody>\n",
       "</table>\n",
       "</div>"
      ],
      "text/plain": [
       "   company  price_rupiah  diameter  topping  variant  size  extra_sauce  \\\n",
       "0        0      235000.0      22.0        2        8     1            1   \n",
       "1        0      198000.0      20.0        7        8     1            1   \n",
       "2        0      120000.0      16.0        5        8     4            1   \n",
       "3        0      155000.0      14.0        9        8     4            1   \n",
       "4        0      248000.0      18.0        4        8     1            1   \n",
       "\n",
       "   extra_cheese  extra_mushrooms  \n",
       "0             1                0  \n",
       "1             1                0  \n",
       "2             1                1  \n",
       "3             0                1  \n",
       "4             0                1  "
      ]
     },
     "execution_count": 21,
     "metadata": {},
     "output_type": "execute_result"
    }
   ],
   "source": [
    "data.head()"
   ]
  },
  {
   "cell_type": "code",
   "execution_count": 22,
   "id": "0826b30e",
   "metadata": {
    "execution": {
     "iopub.execute_input": "2021-09-04T13:36:03.838743Z",
     "iopub.status.busy": "2021-09-04T13:36:03.838004Z",
     "iopub.status.idle": "2021-09-04T13:36:03.851406Z",
     "shell.execute_reply": "2021-09-04T13:36:03.850997Z",
     "shell.execute_reply.started": "2021-09-04T12:38:07.491086Z"
    },
    "papermill": {
     "duration": 0.069827,
     "end_time": "2021-09-04T13:36:03.851516",
     "exception": false,
     "start_time": "2021-09-04T13:36:03.781689",
     "status": "completed"
    },
    "tags": []
   },
   "outputs": [
    {
     "name": "stdout",
     "output_type": "stream",
     "text": [
      "<class 'pandas.core.frame.DataFrame'>\n",
      "RangeIndex: 129 entries, 0 to 128\n",
      "Data columns (total 9 columns):\n",
      " #   Column           Non-Null Count  Dtype  \n",
      "---  ------           --------------  -----  \n",
      " 0   company          129 non-null    int64  \n",
      " 1   price_rupiah     129 non-null    float64\n",
      " 2   diameter         129 non-null    float64\n",
      " 3   topping          129 non-null    int64  \n",
      " 4   variant          129 non-null    int64  \n",
      " 5   size             129 non-null    int64  \n",
      " 6   extra_sauce      129 non-null    int64  \n",
      " 7   extra_cheese     129 non-null    int64  \n",
      " 8   extra_mushrooms  129 non-null    int64  \n",
      "dtypes: float64(2), int64(7)\n",
      "memory usage: 9.2 KB\n"
     ]
    }
   ],
   "source": [
    "data.info()"
   ]
  },
  {
   "cell_type": "markdown",
   "id": "ef7aab74",
   "metadata": {
    "papermill": {
     "duration": 0.035388,
     "end_time": "2021-09-04T13:36:03.923179",
     "exception": false,
     "start_time": "2021-09-04T13:36:03.887791",
     "status": "completed"
    },
    "tags": []
   },
   "source": [
    "### Whole dataset is in numerical form now!!\n",
    "### \n",
    "### \n"
   ]
  },
  {
   "cell_type": "markdown",
   "id": "054a624b",
   "metadata": {
    "papermill": {
     "duration": 0.035546,
     "end_time": "2021-09-04T13:36:03.994207",
     "exception": false,
     "start_time": "2021-09-04T13:36:03.958661",
     "status": "completed"
    },
    "tags": []
   },
   "source": [
    "# Splitting into X and Y"
   ]
  },
  {
   "cell_type": "code",
   "execution_count": 23,
   "id": "f6866fde",
   "metadata": {
    "execution": {
     "iopub.execute_input": "2021-09-04T13:36:04.071403Z",
     "iopub.status.busy": "2021-09-04T13:36:04.070931Z",
     "iopub.status.idle": "2021-09-04T13:36:04.073456Z",
     "shell.execute_reply": "2021-09-04T13:36:04.073002Z",
     "shell.execute_reply.started": "2021-09-04T12:38:07.508543Z"
    },
    "papermill": {
     "duration": 0.0436,
     "end_time": "2021-09-04T13:36:04.073591",
     "exception": false,
     "start_time": "2021-09-04T13:36:04.029991",
     "status": "completed"
    },
    "tags": []
   },
   "outputs": [],
   "source": [
    "Y = data[\"price_rupiah\"]\n",
    "X = data.drop(\"price_rupiah\",axis = 1)"
   ]
  },
  {
   "cell_type": "code",
   "execution_count": 24,
   "id": "6c3dcca8",
   "metadata": {
    "execution": {
     "iopub.execute_input": "2021-09-04T13:36:04.157751Z",
     "iopub.status.busy": "2021-09-04T13:36:04.153713Z",
     "iopub.status.idle": "2021-09-04T13:36:04.160632Z",
     "shell.execute_reply": "2021-09-04T13:36:04.160983Z",
     "shell.execute_reply.started": "2021-09-04T12:38:07.664630Z"
    },
    "papermill": {
     "duration": 0.051023,
     "end_time": "2021-09-04T13:36:04.161119",
     "exception": false,
     "start_time": "2021-09-04T13:36:04.110096",
     "status": "completed"
    },
    "tags": []
   },
   "outputs": [
    {
     "data": {
      "text/html": [
       "<div>\n",
       "<style scoped>\n",
       "    .dataframe tbody tr th:only-of-type {\n",
       "        vertical-align: middle;\n",
       "    }\n",
       "\n",
       "    .dataframe tbody tr th {\n",
       "        vertical-align: top;\n",
       "    }\n",
       "\n",
       "    .dataframe thead th {\n",
       "        text-align: right;\n",
       "    }\n",
       "</style>\n",
       "<table border=\"1\" class=\"dataframe\">\n",
       "  <thead>\n",
       "    <tr style=\"text-align: right;\">\n",
       "      <th></th>\n",
       "      <th>company</th>\n",
       "      <th>diameter</th>\n",
       "      <th>topping</th>\n",
       "      <th>variant</th>\n",
       "      <th>size</th>\n",
       "      <th>extra_sauce</th>\n",
       "      <th>extra_cheese</th>\n",
       "      <th>extra_mushrooms</th>\n",
       "    </tr>\n",
       "  </thead>\n",
       "  <tbody>\n",
       "    <tr>\n",
       "      <th>0</th>\n",
       "      <td>0</td>\n",
       "      <td>22.0</td>\n",
       "      <td>2</td>\n",
       "      <td>8</td>\n",
       "      <td>1</td>\n",
       "      <td>1</td>\n",
       "      <td>1</td>\n",
       "      <td>0</td>\n",
       "    </tr>\n",
       "    <tr>\n",
       "      <th>1</th>\n",
       "      <td>0</td>\n",
       "      <td>20.0</td>\n",
       "      <td>7</td>\n",
       "      <td>8</td>\n",
       "      <td>1</td>\n",
       "      <td>1</td>\n",
       "      <td>1</td>\n",
       "      <td>0</td>\n",
       "    </tr>\n",
       "    <tr>\n",
       "      <th>2</th>\n",
       "      <td>0</td>\n",
       "      <td>16.0</td>\n",
       "      <td>5</td>\n",
       "      <td>8</td>\n",
       "      <td>4</td>\n",
       "      <td>1</td>\n",
       "      <td>1</td>\n",
       "      <td>1</td>\n",
       "    </tr>\n",
       "    <tr>\n",
       "      <th>3</th>\n",
       "      <td>0</td>\n",
       "      <td>14.0</td>\n",
       "      <td>9</td>\n",
       "      <td>8</td>\n",
       "      <td>4</td>\n",
       "      <td>1</td>\n",
       "      <td>0</td>\n",
       "      <td>1</td>\n",
       "    </tr>\n",
       "    <tr>\n",
       "      <th>4</th>\n",
       "      <td>0</td>\n",
       "      <td>18.0</td>\n",
       "      <td>4</td>\n",
       "      <td>8</td>\n",
       "      <td>1</td>\n",
       "      <td>1</td>\n",
       "      <td>0</td>\n",
       "      <td>1</td>\n",
       "    </tr>\n",
       "  </tbody>\n",
       "</table>\n",
       "</div>"
      ],
      "text/plain": [
       "   company  diameter  topping  variant  size  extra_sauce  extra_cheese  \\\n",
       "0        0      22.0        2        8     1            1             1   \n",
       "1        0      20.0        7        8     1            1             1   \n",
       "2        0      16.0        5        8     4            1             1   \n",
       "3        0      14.0        9        8     4            1             0   \n",
       "4        0      18.0        4        8     1            1             0   \n",
       "\n",
       "   extra_mushrooms  \n",
       "0                0  \n",
       "1                0  \n",
       "2                1  \n",
       "3                1  \n",
       "4                1  "
      ]
     },
     "execution_count": 24,
     "metadata": {},
     "output_type": "execute_result"
    }
   ],
   "source": [
    "X.head()"
   ]
  },
  {
   "cell_type": "code",
   "execution_count": 25,
   "id": "324563d6",
   "metadata": {
    "execution": {
     "iopub.execute_input": "2021-09-04T13:36:04.240174Z",
     "iopub.status.busy": "2021-09-04T13:36:04.239723Z",
     "iopub.status.idle": "2021-09-04T13:36:04.242174Z",
     "shell.execute_reply": "2021-09-04T13:36:04.242565Z",
     "shell.execute_reply.started": "2021-09-04T12:38:07.684309Z"
    },
    "papermill": {
     "duration": 0.044387,
     "end_time": "2021-09-04T13:36:04.242686",
     "exception": false,
     "start_time": "2021-09-04T13:36:04.198299",
     "status": "completed"
    },
    "tags": []
   },
   "outputs": [
    {
     "data": {
      "text/plain": [
       "0    235000.0\n",
       "1    198000.0\n",
       "2    120000.0\n",
       "3    155000.0\n",
       "4    248000.0\n",
       "Name: price_rupiah, dtype: float64"
      ]
     },
     "execution_count": 25,
     "metadata": {},
     "output_type": "execute_result"
    }
   ],
   "source": [
    "Y.head()"
   ]
  },
  {
   "cell_type": "code",
   "execution_count": 26,
   "id": "fab17fe0",
   "metadata": {
    "execution": {
     "iopub.execute_input": "2021-09-04T13:36:04.318960Z",
     "iopub.status.busy": "2021-09-04T13:36:04.318494Z",
     "iopub.status.idle": "2021-09-04T13:36:04.322221Z",
     "shell.execute_reply": "2021-09-04T13:36:04.322598Z",
     "shell.execute_reply.started": "2021-09-04T12:38:07.693848Z"
    },
    "papermill": {
     "duration": 0.042746,
     "end_time": "2021-09-04T13:36:04.322713",
     "exception": false,
     "start_time": "2021-09-04T13:36:04.279967",
     "status": "completed"
    },
    "tags": []
   },
   "outputs": [],
   "source": [
    "Y=pd.DataFrame(Y)"
   ]
  },
  {
   "cell_type": "code",
   "execution_count": 27,
   "id": "c228c428",
   "metadata": {
    "execution": {
     "iopub.execute_input": "2021-09-04T13:36:04.399063Z",
     "iopub.status.busy": "2021-09-04T13:36:04.398385Z",
     "iopub.status.idle": "2021-09-04T13:36:04.405128Z",
     "shell.execute_reply": "2021-09-04T13:36:04.405475Z",
     "shell.execute_reply.started": "2021-09-04T12:38:07.845918Z"
    },
    "papermill": {
     "duration": 0.046369,
     "end_time": "2021-09-04T13:36:04.405620",
     "exception": false,
     "start_time": "2021-09-04T13:36:04.359251",
     "status": "completed"
    },
    "tags": []
   },
   "outputs": [
    {
     "data": {
      "text/html": [
       "<div>\n",
       "<style scoped>\n",
       "    .dataframe tbody tr th:only-of-type {\n",
       "        vertical-align: middle;\n",
       "    }\n",
       "\n",
       "    .dataframe tbody tr th {\n",
       "        vertical-align: top;\n",
       "    }\n",
       "\n",
       "    .dataframe thead th {\n",
       "        text-align: right;\n",
       "    }\n",
       "</style>\n",
       "<table border=\"1\" class=\"dataframe\">\n",
       "  <thead>\n",
       "    <tr style=\"text-align: right;\">\n",
       "      <th></th>\n",
       "      <th>price_rupiah</th>\n",
       "    </tr>\n",
       "  </thead>\n",
       "  <tbody>\n",
       "    <tr>\n",
       "      <th>0</th>\n",
       "      <td>235000.0</td>\n",
       "    </tr>\n",
       "    <tr>\n",
       "      <th>1</th>\n",
       "      <td>198000.0</td>\n",
       "    </tr>\n",
       "    <tr>\n",
       "      <th>2</th>\n",
       "      <td>120000.0</td>\n",
       "    </tr>\n",
       "    <tr>\n",
       "      <th>3</th>\n",
       "      <td>155000.0</td>\n",
       "    </tr>\n",
       "    <tr>\n",
       "      <th>4</th>\n",
       "      <td>248000.0</td>\n",
       "    </tr>\n",
       "  </tbody>\n",
       "</table>\n",
       "</div>"
      ],
      "text/plain": [
       "   price_rupiah\n",
       "0      235000.0\n",
       "1      198000.0\n",
       "2      120000.0\n",
       "3      155000.0\n",
       "4      248000.0"
      ]
     },
     "execution_count": 27,
     "metadata": {},
     "output_type": "execute_result"
    }
   ],
   "source": [
    "Y.head()"
   ]
  },
  {
   "cell_type": "markdown",
   "id": "0b23139d",
   "metadata": {
    "papermill": {
     "duration": 0.03579,
     "end_time": "2021-09-04T13:36:04.478117",
     "exception": false,
     "start_time": "2021-09-04T13:36:04.442327",
     "status": "completed"
    },
    "tags": []
   },
   "source": [
    "# Test-Train Split"
   ]
  },
  {
   "cell_type": "code",
   "execution_count": 28,
   "id": "dd8905db",
   "metadata": {
    "execution": {
     "iopub.execute_input": "2021-09-04T13:36:04.553710Z",
     "iopub.status.busy": "2021-09-04T13:36:04.553069Z",
     "iopub.status.idle": "2021-09-04T13:36:04.558809Z",
     "shell.execute_reply": "2021-09-04T13:36:04.559230Z",
     "shell.execute_reply.started": "2021-09-04T12:38:07.855784Z"
    },
    "papermill": {
     "duration": 0.044403,
     "end_time": "2021-09-04T13:36:04.559341",
     "exception": false,
     "start_time": "2021-09-04T13:36:04.514938",
     "status": "completed"
    },
    "tags": []
   },
   "outputs": [],
   "source": [
    "# Break off validation set from training data\n",
    "X_train_full, X_valid_full, Y_train, Y_valid = train_test_split(X, Y, train_size=0.8, test_size=0.2,\n",
    "                                                                random_state=0)"
   ]
  },
  {
   "cell_type": "code",
   "execution_count": 29,
   "id": "b3009483",
   "metadata": {
    "execution": {
     "iopub.execute_input": "2021-09-04T13:36:04.634443Z",
     "iopub.status.busy": "2021-09-04T13:36:04.633830Z",
     "iopub.status.idle": "2021-09-04T13:36:04.644493Z",
     "shell.execute_reply": "2021-09-04T13:36:04.644076Z",
     "shell.execute_reply.started": "2021-09-04T12:38:08.008021Z"
    },
    "papermill": {
     "duration": 0.048877,
     "end_time": "2021-09-04T13:36:04.644605",
     "exception": false,
     "start_time": "2021-09-04T13:36:04.595728",
     "status": "completed"
    },
    "tags": []
   },
   "outputs": [
    {
     "data": {
      "text/html": [
       "<div>\n",
       "<style scoped>\n",
       "    .dataframe tbody tr th:only-of-type {\n",
       "        vertical-align: middle;\n",
       "    }\n",
       "\n",
       "    .dataframe tbody tr th {\n",
       "        vertical-align: top;\n",
       "    }\n",
       "\n",
       "    .dataframe thead th {\n",
       "        text-align: right;\n",
       "    }\n",
       "</style>\n",
       "<table border=\"1\" class=\"dataframe\">\n",
       "  <thead>\n",
       "    <tr style=\"text-align: right;\">\n",
       "      <th></th>\n",
       "      <th>company</th>\n",
       "      <th>diameter</th>\n",
       "      <th>topping</th>\n",
       "      <th>variant</th>\n",
       "      <th>size</th>\n",
       "      <th>extra_sauce</th>\n",
       "      <th>extra_cheese</th>\n",
       "      <th>extra_mushrooms</th>\n",
       "    </tr>\n",
       "  </thead>\n",
       "  <tbody>\n",
       "    <tr>\n",
       "      <th>120</th>\n",
       "      <td>4</td>\n",
       "      <td>14.0</td>\n",
       "      <td>4</td>\n",
       "      <td>4</td>\n",
       "      <td>2</td>\n",
       "      <td>1</td>\n",
       "      <td>1</td>\n",
       "      <td>0</td>\n",
       "    </tr>\n",
       "    <tr>\n",
       "      <th>16</th>\n",
       "      <td>0</td>\n",
       "      <td>16.0</td>\n",
       "      <td>9</td>\n",
       "      <td>13</td>\n",
       "      <td>1</td>\n",
       "      <td>0</td>\n",
       "      <td>1</td>\n",
       "      <td>1</td>\n",
       "    </tr>\n",
       "    <tr>\n",
       "      <th>89</th>\n",
       "      <td>3</td>\n",
       "      <td>8.5</td>\n",
       "      <td>4</td>\n",
       "      <td>4</td>\n",
       "      <td>5</td>\n",
       "      <td>1</td>\n",
       "      <td>0</td>\n",
       "      <td>1</td>\n",
       "    </tr>\n",
       "    <tr>\n",
       "      <th>119</th>\n",
       "      <td>4</td>\n",
       "      <td>12.0</td>\n",
       "      <td>5</td>\n",
       "      <td>4</td>\n",
       "      <td>3</td>\n",
       "      <td>1</td>\n",
       "      <td>1</td>\n",
       "      <td>0</td>\n",
       "    </tr>\n",
       "    <tr>\n",
       "      <th>13</th>\n",
       "      <td>0</td>\n",
       "      <td>12.0</td>\n",
       "      <td>1</td>\n",
       "      <td>18</td>\n",
       "      <td>4</td>\n",
       "      <td>0</td>\n",
       "      <td>1</td>\n",
       "      <td>0</td>\n",
       "    </tr>\n",
       "  </tbody>\n",
       "</table>\n",
       "</div>"
      ],
      "text/plain": [
       "     company  diameter  topping  variant  size  extra_sauce  extra_cheese  \\\n",
       "120        4      14.0        4        4     2            1             1   \n",
       "16         0      16.0        9       13     1            0             1   \n",
       "89         3       8.5        4        4     5            1             0   \n",
       "119        4      12.0        5        4     3            1             1   \n",
       "13         0      12.0        1       18     4            0             1   \n",
       "\n",
       "     extra_mushrooms  \n",
       "120                0  \n",
       "16                 1  \n",
       "89                 1  \n",
       "119                0  \n",
       "13                 0  "
      ]
     },
     "execution_count": 29,
     "metadata": {},
     "output_type": "execute_result"
    }
   ],
   "source": [
    "X_train_full.head()"
   ]
  },
  {
   "cell_type": "code",
   "execution_count": 30,
   "id": "f727e437",
   "metadata": {
    "execution": {
     "iopub.execute_input": "2021-09-04T13:36:04.721315Z",
     "iopub.status.busy": "2021-09-04T13:36:04.720880Z",
     "iopub.status.idle": "2021-09-04T13:36:04.730151Z",
     "shell.execute_reply": "2021-09-04T13:36:04.729728Z",
     "shell.execute_reply.started": "2021-09-04T12:38:08.166806Z"
    },
    "papermill": {
     "duration": 0.048453,
     "end_time": "2021-09-04T13:36:04.730257",
     "exception": false,
     "start_time": "2021-09-04T13:36:04.681804",
     "status": "completed"
    },
    "tags": []
   },
   "outputs": [
    {
     "data": {
      "text/html": [
       "<div>\n",
       "<style scoped>\n",
       "    .dataframe tbody tr th:only-of-type {\n",
       "        vertical-align: middle;\n",
       "    }\n",
       "\n",
       "    .dataframe tbody tr th {\n",
       "        vertical-align: top;\n",
       "    }\n",
       "\n",
       "    .dataframe thead th {\n",
       "        text-align: right;\n",
       "    }\n",
       "</style>\n",
       "<table border=\"1\" class=\"dataframe\">\n",
       "  <thead>\n",
       "    <tr style=\"text-align: right;\">\n",
       "      <th></th>\n",
       "      <th>price_rupiah</th>\n",
       "    </tr>\n",
       "  </thead>\n",
       "  <tbody>\n",
       "    <tr>\n",
       "      <th>120</th>\n",
       "      <td>72000.0</td>\n",
       "    </tr>\n",
       "    <tr>\n",
       "      <th>16</th>\n",
       "      <td>110000.0</td>\n",
       "    </tr>\n",
       "    <tr>\n",
       "      <th>89</th>\n",
       "      <td>23500.0</td>\n",
       "    </tr>\n",
       "    <tr>\n",
       "      <th>119</th>\n",
       "      <td>46000.0</td>\n",
       "    </tr>\n",
       "    <tr>\n",
       "      <th>13</th>\n",
       "      <td>90000.0</td>\n",
       "    </tr>\n",
       "  </tbody>\n",
       "</table>\n",
       "</div>"
      ],
      "text/plain": [
       "     price_rupiah\n",
       "120       72000.0\n",
       "16       110000.0\n",
       "89        23500.0\n",
       "119       46000.0\n",
       "13        90000.0"
      ]
     },
     "execution_count": 30,
     "metadata": {},
     "output_type": "execute_result"
    }
   ],
   "source": [
    "Y_train.head()"
   ]
  },
  {
   "cell_type": "markdown",
   "id": "ab7c5531",
   "metadata": {
    "papermill": {
     "duration": 0.037267,
     "end_time": "2021-09-04T13:36:04.805366",
     "exception": false,
     "start_time": "2021-09-04T13:36:04.768099",
     "status": "completed"
    },
    "tags": []
   },
   "source": [
    "# XGB Regressor"
   ]
  },
  {
   "cell_type": "code",
   "execution_count": 31,
   "id": "0e7b50b9",
   "metadata": {
    "execution": {
     "iopub.execute_input": "2021-09-04T13:36:04.887413Z",
     "iopub.status.busy": "2021-09-04T13:36:04.886940Z",
     "iopub.status.idle": "2021-09-04T13:36:05.557758Z",
     "shell.execute_reply": "2021-09-04T13:36:05.557229Z",
     "shell.execute_reply.started": "2021-09-04T12:38:08.182282Z"
    },
    "papermill": {
     "duration": 0.714555,
     "end_time": "2021-09-04T13:36:05.557892",
     "exception": false,
     "start_time": "2021-09-04T13:36:04.843337",
     "status": "completed"
    },
    "tags": []
   },
   "outputs": [
    {
     "name": "stdout",
     "output_type": "stream",
     "text": [
      "Mean Absolute Error: 5551.814002403846\n",
      "R2 score : 0.9134005216763394\n"
     ]
    }
   ],
   "source": [
    "from xgboost import XGBRegressor\n",
    "from sklearn.metrics import mean_absolute_error\n",
    "# Define the model\n",
    "model = XGBRegressor(n_estimators=1000, learning_rate=0.09) \n",
    "\n",
    "# Fit the model\n",
    "model.fit(X_train_full, Y_train) \n",
    "\n",
    "# Get predictions\n",
    "predictions = model.predict(X_valid_full) \n",
    "\n",
    "# Calculate MAE\n",
    "mae = mean_absolute_error(predictions, Y_valid)\n",
    "print(\"Mean Absolute Error:\" , mae)\n",
    "\n",
    "#Calculating R2\n",
    "r2 =  metrics.r2_score(Y_valid, predictions)\n",
    "print(\"R2 score :\", r2)"
   ]
  },
  {
   "cell_type": "code",
   "execution_count": 32,
   "id": "cb7eb102",
   "metadata": {
    "execution": {
     "iopub.execute_input": "2021-09-04T13:36:05.639071Z",
     "iopub.status.busy": "2021-09-04T13:36:05.638483Z",
     "iopub.status.idle": "2021-09-04T13:36:05.640275Z",
     "shell.execute_reply": "2021-09-04T13:36:05.640676Z",
     "shell.execute_reply.started": "2021-09-04T12:38:08.855256Z"
    },
    "papermill": {
     "duration": 0.043063,
     "end_time": "2021-09-04T13:36:05.640805",
     "exception": false,
     "start_time": "2021-09-04T13:36:05.597742",
     "status": "completed"
    },
    "tags": []
   },
   "outputs": [],
   "source": [
    "predictions=pd.DataFrame(predictions)"
   ]
  },
  {
   "cell_type": "code",
   "execution_count": 33,
   "id": "3154ca30",
   "metadata": {
    "execution": {
     "iopub.execute_input": "2021-09-04T13:36:05.719618Z",
     "iopub.status.busy": "2021-09-04T13:36:05.718991Z",
     "iopub.status.idle": "2021-09-04T13:36:05.725817Z",
     "shell.execute_reply": "2021-09-04T13:36:05.726180Z",
     "shell.execute_reply.started": "2021-09-04T12:38:08.861703Z"
    },
    "papermill": {
     "duration": 0.047623,
     "end_time": "2021-09-04T13:36:05.726310",
     "exception": false,
     "start_time": "2021-09-04T13:36:05.678687",
     "status": "completed"
    },
    "tags": []
   },
   "outputs": [
    {
     "data": {
      "text/html": [
       "<div>\n",
       "<style scoped>\n",
       "    .dataframe tbody tr th:only-of-type {\n",
       "        vertical-align: middle;\n",
       "    }\n",
       "\n",
       "    .dataframe tbody tr th {\n",
       "        vertical-align: top;\n",
       "    }\n",
       "\n",
       "    .dataframe thead th {\n",
       "        text-align: right;\n",
       "    }\n",
       "</style>\n",
       "<table border=\"1\" class=\"dataframe\">\n",
       "  <thead>\n",
       "    <tr style=\"text-align: right;\">\n",
       "      <th></th>\n",
       "      <th>0</th>\n",
       "    </tr>\n",
       "  </thead>\n",
       "  <tbody>\n",
       "    <tr>\n",
       "      <th>0</th>\n",
       "      <td>65284.460938</td>\n",
       "    </tr>\n",
       "    <tr>\n",
       "      <th>1</th>\n",
       "      <td>149943.203125</td>\n",
       "    </tr>\n",
       "    <tr>\n",
       "      <th>2</th>\n",
       "      <td>69741.179688</td>\n",
       "    </tr>\n",
       "    <tr>\n",
       "      <th>3</th>\n",
       "      <td>97155.601562</td>\n",
       "    </tr>\n",
       "    <tr>\n",
       "      <th>4</th>\n",
       "      <td>73976.429688</td>\n",
       "    </tr>\n",
       "  </tbody>\n",
       "</table>\n",
       "</div>"
      ],
      "text/plain": [
       "               0\n",
       "0   65284.460938\n",
       "1  149943.203125\n",
       "2   69741.179688\n",
       "3   97155.601562\n",
       "4   73976.429688"
      ]
     },
     "execution_count": 33,
     "metadata": {},
     "output_type": "execute_result"
    }
   ],
   "source": [
    "predictions.head()"
   ]
  },
  {
   "cell_type": "markdown",
   "id": "e78421f0",
   "metadata": {
    "papermill": {
     "duration": 0.037464,
     "end_time": "2021-09-04T13:36:05.801658",
     "exception": false,
     "start_time": "2021-09-04T13:36:05.764194",
     "status": "completed"
    },
    "tags": []
   },
   "source": [
    "# Improved XGB egressor"
   ]
  },
  {
   "cell_type": "code",
   "execution_count": 34,
   "id": "5575bbc3",
   "metadata": {
    "execution": {
     "iopub.execute_input": "2021-09-04T13:36:05.880079Z",
     "iopub.status.busy": "2021-09-04T13:36:05.879430Z",
     "iopub.status.idle": "2021-09-04T13:36:06.587052Z",
     "shell.execute_reply": "2021-09-04T13:36:06.588079Z",
     "shell.execute_reply.started": "2021-09-04T12:56:03.206287Z"
    },
    "papermill": {
     "duration": 0.74867,
     "end_time": "2021-09-04T13:36:06.588367",
     "exception": false,
     "start_time": "2021-09-04T13:36:05.839697",
     "status": "completed"
    },
    "tags": []
   },
   "outputs": [
    {
     "name": "stdout",
     "output_type": "stream",
     "text": [
      "Mean Absolute Error: 5167.389573317308\n",
      "R2 score : 0.9386071733668582\n"
     ]
    }
   ],
   "source": [
    "# Define the model\n",
    "model2 = XGBRegressor(n_estimators=1000, learning_rate=0.01,max_depth=10) \n",
    "\n",
    "# Fit the model\n",
    "model2.fit(X_train_full, Y_train) \n",
    "\n",
    "# Get predictions\n",
    "predictions2 = model2.predict(X_valid_full) \n",
    "\n",
    "# Calculate MAE\n",
    "mae2 = mean_absolute_error(predictions2, Y_valid)\n",
    "print(\"Mean Absolute Error:\" , mae2)\n",
    "\n",
    "#Calculating R2\n",
    "r22 =  metrics.r2_score(Y_valid, predictions2)\n",
    "print(\"R2 score :\", r22)"
   ]
  },
  {
   "cell_type": "code",
   "execution_count": null,
   "id": "7a91c1de",
   "metadata": {
    "papermill": {
     "duration": 0.038204,
     "end_time": "2021-09-04T13:36:06.666970",
     "exception": false,
     "start_time": "2021-09-04T13:36:06.628766",
     "status": "completed"
    },
    "tags": []
   },
   "outputs": [],
   "source": []
  },
  {
   "cell_type": "code",
   "execution_count": null,
   "id": "11156d73",
   "metadata": {
    "papermill": {
     "duration": 0.037336,
     "end_time": "2021-09-04T13:36:06.743165",
     "exception": false,
     "start_time": "2021-09-04T13:36:06.705829",
     "status": "completed"
    },
    "tags": []
   },
   "outputs": [],
   "source": []
  },
  {
   "cell_type": "code",
   "execution_count": null,
   "id": "9d2d18b4",
   "metadata": {
    "papermill": {
     "duration": 0.038033,
     "end_time": "2021-09-04T13:36:06.818957",
     "exception": false,
     "start_time": "2021-09-04T13:36:06.780924",
     "status": "completed"
    },
    "tags": []
   },
   "outputs": [],
   "source": []
  },
  {
   "cell_type": "code",
   "execution_count": null,
   "id": "6a5c84f4",
   "metadata": {
    "papermill": {
     "duration": 0.038064,
     "end_time": "2021-09-04T13:36:06.895420",
     "exception": false,
     "start_time": "2021-09-04T13:36:06.857356",
     "status": "completed"
    },
    "tags": []
   },
   "outputs": [],
   "source": []
  },
  {
   "cell_type": "code",
   "execution_count": null,
   "id": "4d1b862e",
   "metadata": {
    "papermill": {
     "duration": 0.037985,
     "end_time": "2021-09-04T13:36:06.971921",
     "exception": false,
     "start_time": "2021-09-04T13:36:06.933936",
     "status": "completed"
    },
    "tags": []
   },
   "outputs": [],
   "source": []
  },
  {
   "cell_type": "code",
   "execution_count": null,
   "id": "f157bb79",
   "metadata": {
    "papermill": {
     "duration": 0.037741,
     "end_time": "2021-09-04T13:36:07.047737",
     "exception": false,
     "start_time": "2021-09-04T13:36:07.009996",
     "status": "completed"
    },
    "tags": []
   },
   "outputs": [],
   "source": []
  },
  {
   "cell_type": "code",
   "execution_count": null,
   "id": "6c7d6a1e",
   "metadata": {
    "papermill": {
     "duration": 0.037577,
     "end_time": "2021-09-04T13:36:07.123152",
     "exception": false,
     "start_time": "2021-09-04T13:36:07.085575",
     "status": "completed"
    },
    "tags": []
   },
   "outputs": [],
   "source": []
  },
  {
   "cell_type": "code",
   "execution_count": null,
   "id": "b688dc32",
   "metadata": {
    "papermill": {
     "duration": 0.038179,
     "end_time": "2021-09-04T13:36:07.199461",
     "exception": false,
     "start_time": "2021-09-04T13:36:07.161282",
     "status": "completed"
    },
    "tags": []
   },
   "outputs": [],
   "source": []
  }
 ],
 "metadata": {
  "kernelspec": {
   "display_name": "Python 3",
   "language": "python",
   "name": "python3"
  },
  "language_info": {
   "codemirror_mode": {
    "name": "ipython",
    "version": 3
   },
   "file_extension": ".py",
   "mimetype": "text/x-python",
   "name": "python",
   "nbconvert_exporter": "python",
   "pygments_lexer": "ipython3",
   "version": "3.7.10"
  },
  "papermill": {
   "default_parameters": {},
   "duration": 15.714482,
   "end_time": "2021-09-04T13:36:08.704883",
   "environment_variables": {},
   "exception": null,
   "input_path": "__notebook__.ipynb",
   "output_path": "__notebook__.ipynb",
   "parameters": {},
   "start_time": "2021-09-04T13:35:52.990401",
   "version": "2.3.3"
  }
 },
 "nbformat": 4,
 "nbformat_minor": 5
}
